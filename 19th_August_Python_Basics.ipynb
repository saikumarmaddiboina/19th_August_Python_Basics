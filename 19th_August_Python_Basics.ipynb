{
 "cells": [
  {
   "cell_type": "markdown",
   "id": "7047130a-746b-4a1a-912a-8321c8386a37",
   "metadata": {},
   "source": [
    "TOPIC: Python Basics Variable"
   ]
  },
  {
   "cell_type": "markdown",
   "id": "33344107-3253-42dd-8c5e-3de999502b06",
   "metadata": {},
   "source": [
    "Declare two variables, `x` and `y`, and assign them integer values. Swap the values of these variables without using any temporary variable."
   ]
  },
  {
   "cell_type": "code",
   "execution_count": 1,
   "id": "8e8b4ba6-5eb4-4f95-aef3-f38ce9951472",
   "metadata": {},
   "outputs": [],
   "source": [
    "x,y = 1,2"
   ]
  },
  {
   "cell_type": "code",
   "execution_count": 2,
   "id": "ba3c69d3-17e8-4976-a35d-aa286fdc261c",
   "metadata": {},
   "outputs": [
    {
     "data": {
      "text/plain": [
       "1"
      ]
     },
     "execution_count": 2,
     "metadata": {},
     "output_type": "execute_result"
    }
   ],
   "source": [
    "x"
   ]
  },
  {
   "cell_type": "code",
   "execution_count": 3,
   "id": "3d22b517-a01f-47cb-80cf-124e7011a415",
   "metadata": {},
   "outputs": [
    {
     "data": {
      "text/plain": [
       "2"
      ]
     },
     "execution_count": 3,
     "metadata": {},
     "output_type": "execute_result"
    }
   ],
   "source": [
    "y"
   ]
  },
  {
   "cell_type": "code",
   "execution_count": 4,
   "id": "52c9ac4c-8630-4739-ac41-6ed3f9bff3e3",
   "metadata": {},
   "outputs": [],
   "source": [
    "x = y\n",
    "y = x"
   ]
  },
  {
   "cell_type": "code",
   "execution_count": 5,
   "id": "a966dd5d-9fd0-43da-a119-52b1a5b2084d",
   "metadata": {},
   "outputs": [
    {
     "data": {
      "text/plain": [
       "2"
      ]
     },
     "execution_count": 5,
     "metadata": {},
     "output_type": "execute_result"
    }
   ],
   "source": [
    "x"
   ]
  },
  {
   "cell_type": "code",
   "execution_count": 6,
   "id": "cf5fefdc-5a65-4587-847f-f3e69a5f6a2a",
   "metadata": {},
   "outputs": [
    {
     "data": {
      "text/plain": [
       "2"
      ]
     },
     "execution_count": 6,
     "metadata": {},
     "output_type": "execute_result"
    }
   ],
   "source": [
    "y"
   ]
  },
  {
   "cell_type": "markdown",
   "id": "92b36709-89ac-47fa-8193-b90203781f20",
   "metadata": {},
   "source": [
    "Create a program that calculates the area of a rectangle. Take the length and\n",
    "width as inputs from the user and store them in variables. Calculate and\n",
    "display the area."
   ]
  },
  {
   "cell_type": "code",
   "execution_count": 20,
   "id": "68261686-c6b3-4820-a3e9-2ee09ebab88f",
   "metadata": {},
   "outputs": [
    {
     "name": "stdin",
     "output_type": "stream",
     "text": [
      "Enter the length:  22.5\n",
      "Enter the width:  12.8\n"
     ]
    },
    {
     "name": "stdout",
     "output_type": "stream",
     "text": [
      "288.0\n"
     ]
    }
   ],
   "source": [
    "length = float(input(\"Enter the length: \"))\n",
    "width = float(input(\"Enter the width: \"))\n",
    "if length > width:\n",
    "    Area = length*width\n",
    "    print(Area)\n",
    "else:\n",
    "    print(\"In a rectangle, length should be greater than width\")"
   ]
  },
  {
   "cell_type": "markdown",
   "id": "f523e360-b7ac-4b9d-8b7f-6a2796a2cda6",
   "metadata": {},
   "source": [
    "Write a Python program that converts temperatures from Celsius to\n",
    "Fahrenheit. Take the temperature in Celsius as input, store it in a variable,\n",
    "convert it to Fahrenheit, and display the result."
   ]
  },
  {
   "cell_type": "code",
   "execution_count": 19,
   "id": "9756e9a5-1859-407c-8897-a5e2c0e47c44",
   "metadata": {},
   "outputs": [
    {
     "name": "stdin",
     "output_type": "stream",
     "text": [
      "Enter the temperature in degree celsius:  43.7\n"
     ]
    },
    {
     "name": "stdout",
     "output_type": "stream",
     "text": [
      "110.66000000000001\n"
     ]
    }
   ],
   "source": [
    "degree_celsius = float(input(\"Enter the temperature in degree celsius: \"))\n",
    "degree_fahrenheit = ((9/5)*degree_celsius) + 32\n",
    "print(degree_fahrenheit)"
   ]
  },
  {
   "cell_type": "markdown",
   "id": "84017fd6-6e48-47bd-bc3b-b6e7b4310d32",
   "metadata": {},
   "source": [
    "TOPIC: String Based Questions"
   ]
  },
  {
   "cell_type": "markdown",
   "id": "e3c0414c-fd6a-4d1c-ab7c-247e9b6f80e5",
   "metadata": {},
   "source": [
    "Write a Python program that takes a string as input and prints the length of\n",
    "the string."
   ]
  },
  {
   "cell_type": "code",
   "execution_count": 23,
   "id": "474de2ac-e107-4466-8b57-ed9f398d01fb",
   "metadata": {},
   "outputs": [
    {
     "name": "stdin",
     "output_type": "stream",
     "text": [
      "Enter any string:  sai kumar maddiboina\n"
     ]
    },
    {
     "name": "stdout",
     "output_type": "stream",
     "text": [
      "20\n"
     ]
    }
   ],
   "source": [
    "str1 = input(\"Enter any string: \")\n",
    "print(len(str1))"
   ]
  },
  {
   "cell_type": "markdown",
   "id": "8eeb425a-4436-4bac-a20c-2179a20c1976",
   "metadata": {},
   "source": [
    "Create a program that takes a sentence from the user and counts the number\n",
    "of vowels (a, e, i, o, u) in the string."
   ]
  },
  {
   "cell_type": "code",
   "execution_count": 33,
   "id": "e1adad6f-5722-42e8-99ed-832389c59ac4",
   "metadata": {},
   "outputs": [
    {
     "name": "stdin",
     "output_type": "stream",
     "text": [
      "Enter any sentence:  THIS is Sai Kumar\n"
     ]
    },
    {
     "name": "stdout",
     "output_type": "stream",
     "text": [
      "6\n"
     ]
    }
   ],
   "source": [
    "S = input(\"Enter any sentence: \")\n",
    "S = S.lower()\n",
    "c1,c2,c3,c4,c5 = S.count('a'), S.count('e'), S.count('i'), S.count('o'), S.count('u')\n",
    "print(c1+c2+c3+c4+c5)"
   ]
  },
  {
   "cell_type": "markdown",
   "id": "b01a38fd-d776-4084-99a6-a45e9e574ac0",
   "metadata": {},
   "source": [
    "Given a string, reverse the order of characters using string slicing and print\n",
    "the reversed string."
   ]
  },
  {
   "cell_type": "code",
   "execution_count": 36,
   "id": "0f2166db-6fa4-4e00-8b51-bdeebeb49ac1",
   "metadata": {},
   "outputs": [
    {
     "name": "stdout",
     "output_type": "stream",
     "text": [
      "aniobiddam_ramuk_ias\n"
     ]
    }
   ],
   "source": [
    "s2 = 'sai_kumar_maddiboina'\n",
    "print(s2[::-1])"
   ]
  },
  {
   "cell_type": "markdown",
   "id": "2862cc4e-2c2a-4769-b928-e1473a17623d",
   "metadata": {},
   "source": [
    "Write a program that takes a string as input and checks if it is a palindrome\n",
    "(reads the same forwards and backwards)."
   ]
  },
  {
   "cell_type": "code",
   "execution_count": 38,
   "id": "04532ea5-2811-4a59-aabc-4077f9987a4c",
   "metadata": {},
   "outputs": [
    {
     "name": "stdin",
     "output_type": "stream",
     "text": [
      "Enter a word:  sai\n"
     ]
    },
    {
     "name": "stdout",
     "output_type": "stream",
     "text": [
      "It is not a palindrome\n"
     ]
    }
   ],
   "source": [
    "s3 = input(\"Enter a word: \")\n",
    "s4 = s3[::-1]\n",
    "if s4 == s3:\n",
    "    print(\"It is a Palindrome\")\n",
    "else:\n",
    "    print(\"It is not a palindrome\")"
   ]
  },
  {
   "cell_type": "markdown",
   "id": "30da6b33-6e6c-4b06-b6a5-4ffb00f13b28",
   "metadata": {},
   "source": [
    "Create a program that takes a string as input and removes all the spaces from\n",
    "it. Print the modified string without spaces."
   ]
  },
  {
   "cell_type": "code",
   "execution_count": null,
   "id": "bea7adee-12ad-4e88-9c37-d84e475461ad",
   "metadata": {},
   "outputs": [
    {
     "name": "stdin",
     "output_type": "stream",
     "text": [
      "Enter a word:   s i j ggfd\n"
     ]
    }
   ],
   "source": [
    "s5 =input(\"Enter a word: \")\n",
    "print(s5.replace(\" \",\"\"))"
   ]
  },
  {
   "cell_type": "code",
   "execution_count": null,
   "id": "f4280d49-0a29-4ced-b8fd-4da043f692a9",
   "metadata": {},
   "outputs": [],
   "source": []
  }
 ],
 "metadata": {
  "kernelspec": {
   "display_name": "Python 3 (ipykernel)",
   "language": "python",
   "name": "python3"
  },
  "language_info": {
   "codemirror_mode": {
    "name": "ipython",
    "version": 3
   },
   "file_extension": ".py",
   "mimetype": "text/x-python",
   "name": "python",
   "nbconvert_exporter": "python",
   "pygments_lexer": "ipython3",
   "version": "3.10.8"
  }
 },
 "nbformat": 4,
 "nbformat_minor": 5
}
